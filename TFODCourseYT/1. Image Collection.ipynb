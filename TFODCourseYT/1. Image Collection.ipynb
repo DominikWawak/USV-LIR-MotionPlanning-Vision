{
 "cells": [
  {
   "cell_type": "markdown",
   "metadata": {},
   "source": [
    "# 1. Import Dependencies"
   ]
  },
  {
   "cell_type": "code",
   "execution_count": 1,
   "metadata": {},
   "outputs": [
    {
     "name": "stdout",
     "output_type": "stream",
     "text": [
      "Requirement already satisfied: opencv-python in c:\\users\\dominik\\documents\\tfodcourse\\tfod\\lib\\site-packages (4.6.0.66)\n",
      "Requirement already satisfied: numpy>=1.14.5 in c:\\users\\dominik\\documents\\tfodcourse\\tfod\\lib\\site-packages (from opencv-python) (1.20.3)\n"
     ]
    }
   ],
   "source": [
    "!pip install opencv-python"
   ]
  },
  {
   "cell_type": "code",
   "execution_count": 1,
   "metadata": {},
   "outputs": [],
   "source": [
    "# Import opencv\n",
    "import cv2 \n",
    "\n",
    "# Import uuid\n",
    "import uuid\n",
    "\n",
    "# Import Operating System\n",
    "import os\n",
    "\n",
    "# Import time\n",
    "import time"
   ]
  },
  {
   "cell_type": "markdown",
   "metadata": {},
   "source": [
    "# 2. Define Images to Collect"
   ]
  },
  {
   "cell_type": "code",
   "execution_count": 5,
   "metadata": {},
   "outputs": [],
   "source": [
    "labels = ['all']\n",
    "number_imgs = 20\n"
   ]
  },
  {
   "cell_type": "markdown",
   "metadata": {},
   "source": [
    "# 3. Setup Folders "
   ]
  },
  {
   "cell_type": "code",
   "execution_count": 6,
   "metadata": {},
   "outputs": [],
   "source": [
    "IMAGES_PATH = os.path.join('Tensorflow', 'workspace', 'images', 'collectedimages')"
   ]
  },
  {
   "cell_type": "code",
   "execution_count": 7,
   "metadata": {},
   "outputs": [],
   "source": [
    "if not os.path.exists(IMAGES_PATH):\n",
    "    if os.name == 'posix':\n",
    "        !mkdir -p {IMAGES_PATH}\n",
    "    if os.name == 'nt':\n",
    "         !mkdir {IMAGES_PATH}\n",
    "for label in labels:\n",
    "    path = os.path.join(IMAGES_PATH, label)\n",
    "    if not os.path.exists(path):\n",
    "        !mkdir {path}"
   ]
  },
  {
   "cell_type": "markdown",
   "metadata": {},
   "source": [
    "# 4. Capture Images"
   ]
  },
  {
   "cell_type": "code",
   "execution_count": 9,
   "metadata": {},
   "outputs": [
    {
     "name": "stdout",
     "output_type": "stream",
     "text": [
      "Collecting images for all\n",
      "Collecting image 0\n",
      "Collecting image 1\n",
      "Collecting image 2\n",
      "Collecting image 3\n",
      "Collecting image 4\n",
      "Collecting image 5\n",
      "Collecting image 6\n",
      "Collecting image 7\n",
      "Collecting image 8\n",
      "Collecting image 9\n",
      "Collecting image 10\n",
      "Collecting image 11\n",
      "Collecting image 12\n",
      "Collecting image 13\n",
      "Collecting image 14\n",
      "Collecting image 15\n",
      "Collecting image 16\n",
      "Collecting image 17\n",
      "Collecting image 18\n",
      "Collecting image 19\n"
     ]
    }
   ],
   "source": [
    "for label in labels:\n",
    "    cap = cv2.VideoCapture(0)\n",
    "    print('Collecting images for {}'.format(label))\n",
    "    time.sleep(5)\n",
    "    for imgnum in range(number_imgs):\n",
    "        print('Collecting image {}'.format(imgnum))\n",
    "        ret, frame = cap.read()\n",
    "        imgname = os.path.join(IMAGES_PATH,label,label+'.'+'{}.jpg'.format(str(uuid.uuid1())))\n",
    "        cv2.imwrite(imgname, frame)\n",
    "        cv2.imshow('frame', frame)\n",
    "        time.sleep(2)\n",
    "\n",
    "        if cv2.waitKey(1) & 0xFF == ord('q'):\n",
    "            break\n",
    "cap.release()\n",
    "cv2.destroyAllWindows()"
   ]
  },
  {
   "cell_type": "markdown",
   "metadata": {},
   "source": [
    "# 5. Image Labelling"
   ]
  },
  {
   "cell_type": "code",
   "execution_count": 7,
   "metadata": {},
   "outputs": [
    {
     "name": "stdout",
     "output_type": "stream",
     "text": [
      "Collecting pyqt5\n",
      "  Downloading PyQt5-5.15.7-cp37-abi3-win_amd64.whl (6.8 MB)\n",
      "     ---------------------------------------- 6.8/6.8 MB 20.7 MB/s eta 0:00:00\n",
      "Collecting lxml\n",
      "  Downloading lxml-4.9.2-cp38-cp38-win_amd64.whl (3.9 MB)\n",
      "     ---------------------------------------- 3.9/3.9 MB 35.7 MB/s eta 0:00:00\n",
      "Collecting PyQt5-sip<13,>=12.11\n",
      "  Downloading PyQt5_sip-12.11.0-cp38-cp38-win_amd64.whl (78 kB)\n",
      "     ---------------------------------------- 78.1/78.1 kB 4.5 MB/s eta 0:00:00\n",
      "Collecting PyQt5-Qt5>=5.15.0\n",
      "  Downloading PyQt5_Qt5-5.15.2-py3-none-win_amd64.whl (50.1 MB)\n",
      "     --------------------------------------- 50.1/50.1 MB 17.7 MB/s eta 0:00:00\n",
      "Installing collected packages: PyQt5-Qt5, PyQt5-sip, lxml, pyqt5\n",
      "Successfully installed PyQt5-Qt5-5.15.2 PyQt5-sip-12.11.0 lxml-4.9.2 pyqt5-5.15.7\n"
     ]
    }
   ],
   "source": [
    "!pip install --upgrade pyqt5 lxml"
   ]
  },
  {
   "cell_type": "code",
   "execution_count": 10,
   "metadata": {},
   "outputs": [],
   "source": [
    "LABELIMG_PATH = os.path.join('Tensorflow', 'labelimg')"
   ]
  },
  {
   "cell_type": "code",
   "execution_count": 8,
   "metadata": {},
   "outputs": [],
   "source": [
    "if not os.path.exists(LABELIMG_PATH):\n",
    "    !mkdir {LABELIMG_PATH}\n",
    "    !git clone https://github.com/tzutalin/labelImg {LABELIMG_PATH}"
   ]
  },
  {
   "cell_type": "code",
   "execution_count": 9,
   "metadata": {},
   "outputs": [],
   "source": [
    "if os.name == 'posix':\n",
    "    !make qt5py3\n",
    "if os.name =='nt':\n",
    "    !cd {LABELIMG_PATH} && pyrcc5 -o libs/resources.py resources.qrc"
   ]
  },
  {
   "cell_type": "code",
   "execution_count": 11,
   "metadata": {},
   "outputs": [
    {
     "name": "stdout",
     "output_type": "stream",
     "text": [
      "Image:C:\\Users\\Dominik\\Documents\\TFODCourse\\Tensorflow\\workspace\\images\\collectedimages\\all\\all.2f1b78aa-8de5-11ed-b8e7-3413e834c122.jpg -> Annotation:C:/Users/Dominik/Documents/TFODCourse/Tensorflow/workspace/images/collectedimages/all\\all.2f1b78aa-8de5-11ed-b8e7-3413e834c122.xml\n",
      "Image:C:\\Users\\Dominik\\Documents\\TFODCourse\\Tensorflow\\workspace\\images\\collectedimages\\all\\all.3b351c0d-8de5-11ed-87d9-3413e834c122.jpg -> Annotation:C:/Users/Dominik/Documents/TFODCourse/Tensorflow/workspace/images/collectedimages/all\\all.3b351c0d-8de5-11ed-87d9-3413e834c122.xml\n",
      "Image:C:\\Users\\Dominik\\Documents\\TFODCourse\\Tensorflow\\workspace\\images\\collectedimages\\all\\all.3c6afb4a-8de5-11ed-855f-3413e834c122.jpg -> Annotation:C:/Users/Dominik/Documents/TFODCourse/Tensorflow/workspace/images/collectedimages/all\\all.3c6afb4a-8de5-11ed-855f-3413e834c122.xml\n",
      "Image:C:\\Users\\Dominik\\Documents\\TFODCourse\\Tensorflow\\workspace\\images\\collectedimages\\all\\all.3da10d25-8de5-11ed-acc8-3413e834c122.jpg -> Annotation:C:/Users/Dominik/Documents/TFODCourse/Tensorflow/workspace/images/collectedimages/all\\all.3da10d25-8de5-11ed-acc8-3413e834c122.xml\n",
      "Image:C:\\Users\\Dominik\\Documents\\TFODCourse\\Tensorflow\\workspace\\images\\collectedimages\\all\\all.32bd107e-8de5-11ed-bbd4-3413e834c122.jpg -> Annotation:C:/Users/Dominik/Documents/TFODCourse/Tensorflow/workspace/images/collectedimages/all\\all.32bd107e-8de5-11ed-bbd4-3413e834c122.xml\n",
      "Image:C:\\Users\\Dominik\\Documents\\TFODCourse\\Tensorflow\\workspace\\images\\collectedimages\\all\\all.32bd107e-8de5-11ed-bbd4-3413e834c122.jpg -> Annotation:C:/Users/Dominik/Documents/TFODCourse/Tensorflow/workspace/images/collectedimages/all\\all.32bd107e-8de5-11ed-bbd4-3413e834c122.xml\n",
      "Image:C:\\Users\\Dominik\\Documents\\TFODCourse\\Tensorflow\\workspace\\images\\collectedimages\\all\\all.33f2f630-8de5-11ed-a254-3413e834c122.jpg -> Annotation:C:/Users/Dominik/Documents/TFODCourse/Tensorflow/workspace/images/collectedimages/all\\all.33f2f630-8de5-11ed-a254-3413e834c122.xml\n",
      "Cancel creation.\n",
      "Image:C:\\Users\\Dominik\\Documents\\TFODCourse\\Tensorflow\\workspace\\images\\collectedimages\\all\\all.38c883e4-8de5-11ed-9db5-3413e834c122.jpg -> Annotation:C:/Users/Dominik/Documents/TFODCourse/Tensorflow/workspace/images/collectedimages/all\\all.38c883e4-8de5-11ed-9db5-3413e834c122.xml\n",
      "Image:C:\\Users\\Dominik\\Documents\\TFODCourse\\Tensorflow\\workspace\\images\\collectedimages\\all\\all.39fef175-8de5-11ed-bbcf-3413e834c122.jpg -> Annotation:C:/Users/Dominik/Documents/TFODCourse/Tensorflow/workspace/images/collectedimages/all\\all.39fef175-8de5-11ed-bbcf-3413e834c122.xml\n",
      "Cancel creation.\n",
      "Image:C:\\Users\\Dominik\\Documents\\TFODCourse\\Tensorflow\\workspace\\images\\collectedimages\\all\\all.43af3445-8de5-11ed-9c68-3413e834c122.jpg -> Annotation:C:/Users/Dominik/Documents/TFODCourse/Tensorflow/workspace/images/collectedimages/all\\all.43af3445-8de5-11ed-9c68-3413e834c122.xml\n",
      "Image:C:\\Users\\Dominik\\Documents\\TFODCourse\\Tensorflow\\workspace\\images\\collectedimages\\all\\all.365f28f4-8de5-11ed-a183-3413e834c122.jpg -> Annotation:C:/Users/Dominik/Documents/TFODCourse/Tensorflow/workspace/images/collectedimages/all\\all.365f28f4-8de5-11ed-a183-3413e834c122.xml\n",
      "Image:C:\\Users\\Dominik\\Documents\\TFODCourse\\Tensorflow\\workspace\\images\\collectedimages\\all\\all.400d0d8c-8de5-11ed-aa7e-3413e834c122.jpg -> Annotation:C:/Users/Dominik/Documents/TFODCourse/Tensorflow/workspace/images/collectedimages/all\\all.400d0d8c-8de5-11ed-aa7e-3413e834c122.xml\n",
      "Image:C:\\Users\\Dominik\\Documents\\TFODCourse\\Tensorflow\\workspace\\images\\collectedimages\\all\\all.427a36ed-8de5-11ed-a328-3413e834c122.jpg -> Annotation:C:/Users/Dominik/Documents/TFODCourse/Tensorflow/workspace/images/collectedimages/all\\all.427a36ed-8de5-11ed-a328-3413e834c122.xml\n",
      "Image:C:\\Users\\Dominik\\Documents\\TFODCourse\\Tensorflow\\workspace\\images\\collectedimages\\all\\all.461b882e-8de5-11ed-90bb-3413e834c122.jpg -> Annotation:C:/Users/Dominik/Documents/TFODCourse/Tensorflow/workspace/images/collectedimages/all\\all.461b882e-8de5-11ed-90bb-3413e834c122.xml\n",
      "Image:C:\\Users\\Dominik\\Documents\\TFODCourse\\Tensorflow\\workspace\\images\\collectedimages\\all\\all.3052dd9b-8de5-11ed-ad27-3413e834c122.jpg -> Annotation:C:/Users/Dominik/Documents/TFODCourse/Tensorflow/workspace/images/collectedimages/all\\all.3052dd9b-8de5-11ed-ad27-3413e834c122.xml\n",
      "Image:C:\\Users\\Dominik\\Documents\\TFODCourse\\Tensorflow\\workspace\\images\\collectedimages\\all\\all.31875d31-8de5-11ed-bce6-3413e834c122.jpg -> Annotation:C:/Users/Dominik/Documents/TFODCourse/Tensorflow/workspace/images/collectedimages/all\\all.31875d31-8de5-11ed-bce6-3413e834c122.xml\n",
      "Image:C:\\Users\\Dominik\\Documents\\TFODCourse\\Tensorflow\\workspace\\images\\collectedimages\\all\\all.41435a23-8de5-11ed-b0aa-3413e834c122.jpg -> Annotation:C:/Users/Dominik/Documents/TFODCourse/Tensorflow/workspace/images/collectedimages/all\\all.41435a23-8de5-11ed-b0aa-3413e834c122.xml\n",
      "Image:C:\\Users\\Dominik\\Documents\\TFODCourse\\Tensorflow\\workspace\\images\\collectedimages\\all\\all.352915bc-8de5-11ed-b092-3413e834c122.jpg -> Annotation:C:/Users/Dominik/Documents/TFODCourse/Tensorflow/workspace/images/collectedimages/all\\all.352915bc-8de5-11ed-b092-3413e834c122.xml\n",
      "Image:C:\\Users\\Dominik\\Documents\\TFODCourse\\Tensorflow\\workspace\\images\\collectedimages\\all\\all.3793133a-8de5-11ed-8046-3413e834c122.jpg -> Annotation:C:/Users/Dominik/Documents/TFODCourse/Tensorflow/workspace/images/collectedimages/all\\all.3793133a-8de5-11ed-8046-3413e834c122.xml\n",
      "Image:C:\\Users\\Dominik\\Documents\\TFODCourse\\Tensorflow\\workspace\\images\\collectedimages\\all\\all.acda006d-8de4-11ed-93bc-3413e834c122.jpg -> Annotation:C:/Users/Dominik/Documents/TFODCourse/Tensorflow/workspace/images/collectedimages/all\\all.acda006d-8de4-11ed-93bc-3413e834c122.xml\n",
      "Image:C:\\Users\\Dominik\\Documents\\TFODCourse\\Tensorflow\\workspace\\images\\collectedimages\\all\\all.acda006d-8de4-11ed-93bc-3413e834c122.jpg -> Annotation:C:/Users/Dominik/Documents/TFODCourse/Tensorflow/workspace/images/collectedimages/all\\all.acda006d-8de4-11ed-93bc-3413e834c122.xml\n",
      "Image:C:\\Users\\Dominik\\Documents\\TFODCourse\\Tensorflow\\workspace\\images\\collectedimages\\all\\all.aba3b7fc-8de4-11ed-bfdd-3413e834c122.jpg -> Annotation:C:/Users/Dominik/Documents/TFODCourse/Tensorflow/workspace/images/collectedimages/all\\all.aba3b7fc-8de4-11ed-bfdd-3413e834c122.xml\n",
      "Image:C:\\Users\\Dominik\\Documents\\TFODCourse\\Tensorflow\\workspace\\images\\collectedimages\\all\\all.ae626bc9-8de4-11ed-b27f-3413e834c122.jpg -> Annotation:C:/Users/Dominik/Documents/TFODCourse/Tensorflow/workspace/images/collectedimages/all\\all.ae626bc9-8de4-11ed-b27f-3413e834c122.xml\n",
      "Image:C:\\Users\\Dominik\\Documents\\TFODCourse\\Tensorflow\\workspace\\images\\collectedimages\\all\\all.b0cf239b-8de4-11ed-af1c-3413e834c122.jpg -> Annotation:C:/Users/Dominik/Documents/TFODCourse/Tensorflow/workspace/images/collectedimages/all\\all.b0cf239b-8de4-11ed-af1c-3413e834c122.xml\n",
      "Image:C:\\Users\\Dominik\\Documents\\TFODCourse\\Tensorflow\\workspace\\images\\collectedimages\\all\\all.b33b1405-8de4-11ed-9c19-3413e834c122.jpg -> Annotation:C:/Users/Dominik/Documents/TFODCourse/Tensorflow/workspace/images/collectedimages/all\\all.b33b1405-8de4-11ed-9c19-3413e834c122.xml\n",
      "Image:C:\\Users\\Dominik\\Documents\\TFODCourse\\Tensorflow\\workspace\\images\\collectedimages\\all\\all.b5a72c28-8de4-11ed-8774-3413e834c122.jpg -> Annotation:C:/Users/Dominik/Documents/TFODCourse/Tensorflow/workspace/images/collectedimages/all\\all.b5a72c28-8de4-11ed-8774-3413e834c122.xml\n",
      "Image:C:\\Users\\Dominik\\Documents\\TFODCourse\\Tensorflow\\workspace\\images\\collectedimages\\all\\all.b4712a62-8de4-11ed-a59a-3413e834c122.jpg -> Annotation:C:/Users/Dominik/Documents/TFODCourse/Tensorflow/workspace/images/collectedimages/all\\all.b4712a62-8de4-11ed-a59a-3413e834c122.xml\n",
      "Cancel creation.\n",
      "Image:C:\\Users\\Dominik\\Documents\\TFODCourse\\Tensorflow\\workspace\\images\\collectedimages\\all\\all.ba7f18cb-8de4-11ed-aab9-3413e834c122.jpg -> Annotation:C:/Users/Dominik/Documents/TFODCourse/Tensorflow/workspace/images/collectedimages/all\\all.ba7f18cb-8de4-11ed-aab9-3413e834c122.xml\n",
      "Cancel creation.\n",
      "Image:C:\\Users\\Dominik\\Documents\\TFODCourse\\Tensorflow\\workspace\\images\\collectedimages\\all\\all.b204da3c-8de4-11ed-a246-3413e834c122.jpg -> Annotation:C:/Users/Dominik/Documents/TFODCourse/Tensorflow/workspace/images/collectedimages/all\\all.b204da3c-8de4-11ed-a246-3413e834c122.xml\n",
      "Image:C:\\Users\\Dominik\\Documents\\TFODCourse\\Tensorflow\\workspace\\images\\collectedimages\\all\\all.bbb3098d-8de4-11ed-911f-3413e834c122.jpg -> Annotation:C:/Users/Dominik/Documents/TFODCourse/Tensorflow/workspace/images/collectedimages/all\\all.bbb3098d-8de4-11ed-911f-3413e834c122.xml\n",
      "Cancel creation.\n",
      "ESC press\n",
      "Cancel creation.\n",
      "Image:C:\\Users\\Dominik\\Documents\\TFODCourse\\Tensorflow\\workspace\\images\\collectedimages\\all\\all.bf550fe4-8de4-11ed-ad6f-3413e834c122.jpg -> Annotation:C:/Users/Dominik/Documents/TFODCourse/Tensorflow/workspace/images/collectedimages/all\\all.bf550fe4-8de4-11ed-ad6f-3413e834c122.xml\n",
      "ESC press\n",
      "Cancel creation.\n",
      "Image:C:\\Users\\Dominik\\Documents\\TFODCourse\\Tensorflow\\workspace\\images\\collectedimages\\all\\all.c1c0e7f8-8de4-11ed-83b3-3413e834c122.jpg -> Annotation:C:/Users/Dominik/Documents/TFODCourse/Tensorflow/workspace/images/collectedimages/all\\all.c1c0e7f8-8de4-11ed-83b3-3413e834c122.xml\n",
      "Image:C:\\Users\\Dominik\\Documents\\TFODCourse\\Tensorflow\\workspace\\images\\collectedimages\\all\\all.bce9230b-8de4-11ed-b020-3413e834c122.jpg -> Annotation:C:/Users/Dominik/Documents/TFODCourse/Tensorflow/workspace/images/collectedimages/all\\all.bce9230b-8de4-11ed-b020-3413e834c122.xml\n"
     ]
    }
   ],
   "source": [
    "!cd {LABELIMG_PATH} && python labelImg.py"
   ]
  },
  {
   "cell_type": "markdown",
   "metadata": {},
   "source": [
    "# 6. Move them into a Training and Testing Partition"
   ]
  },
  {
   "cell_type": "markdown",
   "metadata": {},
   "source": [
    "# OPTIONAL - 7. Compress them for Colab Training"
   ]
  },
  {
   "cell_type": "code",
   "execution_count": 20,
   "metadata": {},
   "outputs": [],
   "source": [
    "TRAIN_PATH = os.path.join('Tensorflow', 'workspace', 'images', 'train')\n",
    "TEST_PATH = os.path.join('Tensorflow', 'workspace', 'images', 'test')\n",
    "ARCHIVE_PATH = os.path.join('Tensorflow', 'workspace', 'images', 'archive.tar.gz')"
   ]
  },
  {
   "cell_type": "code",
   "execution_count": 21,
   "metadata": {},
   "outputs": [],
   "source": [
    "!tar -czf {ARCHIVE_PATH} {TRAIN_PATH} {TEST_PATH}"
   ]
  },
  {
   "cell_type": "code",
   "execution_count": null,
   "metadata": {},
   "outputs": [],
   "source": []
  }
 ],
 "metadata": {
  "kernelspec": {
   "display_name": "tfod",
   "language": "python",
   "name": "tfod"
  },
  "language_info": {
   "codemirror_mode": {
    "name": "ipython",
    "version": 3
   },
   "file_extension": ".py",
   "mimetype": "text/x-python",
   "name": "python",
   "nbconvert_exporter": "python",
   "pygments_lexer": "ipython3",
   "version": "3.8.10"
  }
 },
 "nbformat": 4,
 "nbformat_minor": 2
}
